{
 "cells": [
  {
   "cell_type": "markdown",
   "metadata": {},
   "source": [
    "# t-SNE Explorations\n",
    "\n",
    "## Initialization\n",
    "github: https://github.com/gauss256/t-SNE/blob/master/t-SNE%20Explorations.ipynb\n",
    "\n",
    "interactive notebook: https://mybinder.org/\n"
   ]
  },
  {
   "cell_type": "code",
   "execution_count": 12,
   "metadata": {},
   "outputs": [],
   "source": [
    "%matplotlib notebook\n",
    "\n",
    "import matplotlib as mpl\n",
    "from mpl_toolkits.mplot3d import Axes3D\n",
    "import numpy as np\n",
    "import matplotlib.cm as cm\n",
    "import matplotlib.pyplot as plt\n",
    "import pandas as pd\n",
    "from   sklearn.decomposition import PCA\n",
    "from   sklearn.manifold import TSNE, Isomap, LocallyLinearEmbedding, MDS, SpectralEmbedding\n",
    "from   sklearn.preprocessing import StandardScaler\n",
    "\n",
    "np.set_printoptions(suppress=True)\n",
    "np.set_printoptions(precision=4)\n",
    "plt_style = 'seaborn-talk'\n",
    "\n",
    "# Experimental: HDBScan is a state-of-the-art clustering algorithm\n",
    "hdbscan_available = True\n",
    "try:\n",
    "    import hdbscan\n",
    "except ImportError:\n",
    "    hdbscan_available = False"
   ]
  },
  {
   "cell_type": "markdown",
   "metadata": {},
   "source": [
    "## Plotting function"
   ]
  },
  {
   "cell_type": "code",
   "execution_count": 20,
   "metadata": {},
   "outputs": [],
   "source": [
    "def do_plot(X_fit, title, labels):\n",
    "    dimension = X_fit.shape[1]\n",
    "    label_types = sorted(list(set(labels)))\n",
    "    num_labels = len(label_types)\n",
    "    colors = cm.Accent(np.linspace(0, 1, num_labels))\n",
    "    with plt.style.context(plt_style):\n",
    "        fig = plt.figure()\n",
    "        if dimension == 2:\n",
    "            ax = fig.add_subplot(111)\n",
    "            for lab, col in zip(label_types, colors):\n",
    "                ax.scatter(X_fit[labels==lab, 0],\n",
    "                           X_fit[labels==lab, 1],\n",
    "                           c=[col])\n",
    "        elif dimension == 3:\n",
    "            ax = fig.add_subplot(111, projection='3d')\n",
    "            for lab, col in zip(label_types, colors):\n",
    "                ax.scatter(X_fit[labels==lab, 0],\n",
    "                           X_fit[labels==lab, 1],\n",
    "                           X_fit[labels==lab, 2],\n",
    "                           c=[col])\n",
    "        else:\n",
    "            raise Exception('Unknown dimension: %d' % dimension)\n",
    "        plt.title(title)\n",
    "        plt.show()"
   ]
  },
  {
   "cell_type": "markdown",
   "metadata": {},
   "source": [
    "## Generate data"
   ]
  },
  {
   "cell_type": "code",
   "execution_count": null,
   "metadata": {},
   "outputs": [],
   "source": [
    "!pwd\n",
    "with open('test.txt') as f:\n",
    "    lines = f.readlines()\n",
    "    \n",
    "index = 0\n",
    "data=[]\n",
    "for line in lines:\n",
    "    index += 1\n",
    "    ls = line.rstrip().split(' ')\n",
    "    ls = list(map(float, ls))\n",
    "    tp = tuple(ls)\n",
    "    tp = tp + (index%5,)\n",
    "    #print (tp)\n",
    "    data.append(tp)\n",
    "\n",
    "    \n",
    "#print(data)\n",
    "\n",
    "#data_df = pd.DataFrame(data, columns=('x','y','label'))\n",
    "data_df = pd.DataFrame(data)\n",
    "data_df"
   ]
  },
  {
   "cell_type": "markdown",
   "metadata": {},
   "source": [
    "## Prep the data for fitting and visualizing"
   ]
  },
  {
   "cell_type": "code",
   "execution_count": 28,
   "metadata": {},
   "outputs": [],
   "source": [
    "X = data_df.iloc[:,0:-1]\n",
    "#X_std = StandardScaler().fit_transform(X)\n",
    "y = data_df[22].values"
   ]
  },
  {
   "cell_type": "code",
   "execution_count": 29,
   "metadata": {},
   "outputs": [
    {
     "data": {
      "text/plain": [
       "(50, 21)"
      ]
     },
     "execution_count": 29,
     "metadata": {},
     "output_type": "execute_result"
    }
   ],
   "source": [
    "X.values[:,0:-1].shape"
   ]
  },
  {
   "cell_type": "markdown",
   "metadata": {},
   "source": [
    "## Dumb 2D projection"
   ]
  },
  {
   "cell_type": "code",
   "execution_count": null,
   "metadata": {},
   "outputs": [],
   "source": [
    "do_plot(X.values, 'Plane $x=0$', y)"
   ]
  },
  {
   "cell_type": "markdown",
   "metadata": {},
   "source": [
    "## t-SNE (2D)"
   ]
  },
  {
   "cell_type": "code",
   "execution_count": null,
   "metadata": {},
   "outputs": [],
   "source": [
    "tsne2 = TSNE(n_components=2, random_state=0)\n",
    "do_plot(tsne2.fit_transform(X), 't-SNE', y)"
   ]
  }
 ],
 "metadata": {
  "kernelspec": {
   "display_name": "Python 3",
   "language": "python",
   "name": "python3"
  },
  "language_info": {
   "codemirror_mode": {
    "name": "ipython",
    "version": 3
   },
   "file_extension": ".py",
   "mimetype": "text/x-python",
   "name": "python",
   "nbconvert_exporter": "python",
   "pygments_lexer": "ipython3",
   "version": "3.6.7"
  }
 },
 "nbformat": 4,
 "nbformat_minor": 2
}
